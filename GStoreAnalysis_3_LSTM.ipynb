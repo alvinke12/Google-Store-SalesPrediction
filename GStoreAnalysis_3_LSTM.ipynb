{
 "cells": [
  {
   "cell_type": "code",
   "execution_count": 1,
   "metadata": {},
   "outputs": [
    {
     "name": "stdout",
     "output_type": "stream",
     "text": [
      "CPU times: user 2min 9s, sys: 7.06 s, total: 2min 16s\n",
      "Wall time: 2min 14s\n"
     ]
    },
    {
     "name": "stderr",
     "output_type": "stream",
     "text": [
      "<string>:2: DtypeWarning: Columns (0) have mixed types. Specify dtype option on import or set low_memory=False.\n"
     ]
    }
   ],
   "source": [
    "%%time\n",
    "import numpy as np\n",
    "import pandas as pd \n",
    "\n",
    "x_train_reduced = pd.read_csv('x_train_reduced.csv')\n",
    "x_test_reduced = pd.read_csv('x_test_reduced.csv')\n",
    "y_train2 = pd.read_csv('y_train2.csv')\n",
    "\n"
   ]
  },
  {
   "cell_type": "code",
   "execution_count": 2,
   "metadata": {},
   "outputs": [
    {
     "name": "stdout",
     "output_type": "stream",
     "text": [
      "CPU times: user 690 ms, sys: 624 ms, total: 1.31 s\n",
      "Wall time: 1.31 s\n"
     ]
    }
   ],
   "source": [
    "%%time\n",
    "x_train_reduced = x_train_reduced.loc[:, ~x_train_reduced.columns.str.contains('^Unnamed')]\n",
    "x_test_reduced = x_test_reduced.loc[:, ~x_test_reduced.columns.str.contains('^Unnamed')]\n"
   ]
  },
  {
   "cell_type": "code",
   "execution_count": 3,
   "metadata": {},
   "outputs": [
    {
     "name": "stdout",
     "output_type": "stream",
     "text": [
      "CPU times: user 3.9 ms, sys: 0 ns, total: 3.9 ms\n",
      "Wall time: 3.89 ms\n"
     ]
    }
   ],
   "source": [
    "%%time\n",
    "y_train3 = y_train2.drop(labels=['fullVisitorId'], axis=1)"
   ]
  },
  {
   "cell_type": "code",
   "execution_count": 12,
   "metadata": {},
   "outputs": [
    {
     "name": "stdout",
     "output_type": "stream",
     "text": [
      "CPU times: user 32 µs, sys: 2 µs, total: 34 µs\n",
      "Wall time: 37.9 µs\n"
     ]
    }
   ],
   "source": [
    "%%time\n",
    "from keras import models\n",
    "from keras import layers\n",
    "from keras.wrappers.scikit_learn import KerasClassifier\n",
    "from sklearn.model_selection import GridSearchCV\n",
    "from sklearn.model_selection import train_test_split\n",
    "from sklearn.metrics import mean_squared_error\n",
    "from keras.models import Sequential\n",
    "from keras.layers import Dense\n",
    "from keras.layers import LSTM, Bidirectional, Dropout\n",
    "from keras.callbacks import ReduceLROnPlateau\n",
    "from keras.layers import Input\n",
    "from keras.models import Model"
   ]
  },
  {
   "cell_type": "code",
   "execution_count": 13,
   "metadata": {},
   "outputs": [
    {
     "name": "stdout",
     "output_type": "stream",
     "text": [
      "(1323730, 290)\n",
      "(1323730, 1)\n",
      "CPU times: user 0 ns, sys: 178 µs, total: 178 µs\n",
      "Wall time: 134 µs\n"
     ]
    }
   ],
   "source": [
    "%%time\n",
    "\n",
    "print(x_train_reduced.shape)\n",
    "print(y_train3.shape)\n"
   ]
  },
  {
   "cell_type": "code",
   "execution_count": 14,
   "metadata": {},
   "outputs": [],
   "source": [
    "X_train, X_val, y_train, y_val = train_test_split(x_train_reduced, y_train3, test_size=0.15, random_state=666)"
   ]
  },
  {
   "cell_type": "code",
   "execution_count": 15,
   "metadata": {},
   "outputs": [
    {
     "name": "stdout",
     "output_type": "stream",
     "text": [
      "(1125170, 290)\n",
      "(198560, 290)\n",
      "(1125170, 1)\n",
      "(198560, 1)\n"
     ]
    }
   ],
   "source": [
    "print(X_train.shape)\n",
    "print(X_val.shape)\n",
    "print(y_train.shape)\n",
    "print(y_val.shape)"
   ]
  },
  {
   "cell_type": "code",
   "execution_count": 16,
   "metadata": {},
   "outputs": [],
   "source": [
    "# reshape input to be [samples, time steps, features] \n",
    "# trainX = np.reshape(X_train, (X_train.shape[0], 1, X_val.shape[1])) \n",
    "# testX = np.reshape(X_val, (X_val.shape[0], 1, X_val.shape[1]))\n",
    "X_train = X_train.values\n",
    "X_val = X_val.values\n",
    "y_train = y_train.values\n",
    "y_val = y_val.values\n",
    "X_train = X_train.reshape(X_train.shape[0],1,X_train.shape[1])\n",
    "X_val = X_val.reshape(X_val.shape[0],1,X_val.shape[1])"
   ]
  },
  {
   "cell_type": "code",
   "execution_count": 17,
   "metadata": {},
   "outputs": [
    {
     "name": "stdout",
     "output_type": "stream",
     "text": [
      "(1125170, 1, 290)\n",
      "(198560, 1, 290)\n",
      "(1125170, 1)\n",
      "(198560, 1)\n"
     ]
    }
   ],
   "source": [
    "print(X_train.shape)\n",
    "print(X_val.shape)\n",
    "print(y_train.shape)\n",
    "print(y_val.shape)"
   ]
  },
  {
   "cell_type": "code",
   "execution_count": 18,
   "metadata": {},
   "outputs": [
    {
     "name": "stdout",
     "output_type": "stream",
     "text": [
      "Train on 1125170 samples, validate on 198560 samples\n",
      "Epoch 1/4\n",
      "1125170/1125170 [==============================] - 286s 254us/step - loss: 0.4025 - val_loss: 0.3342\n",
      "Epoch 2/4\n",
      "1125170/1125170 [==============================] - 276s 246us/step - loss: 0.2341 - val_loss: 0.2136\n",
      "Epoch 3/4\n",
      "1125170/1125170 [==============================] - 276s 245us/step - loss: 0.1867 - val_loss: 0.1834\n",
      "Epoch 4/4\n",
      "1125170/1125170 [==============================] - 276s 245us/step - loss: 0.1612 - val_loss: 0.2201\n",
      "CPU times: user 25min, sys: 3min 50s, total: 28min 50s\n",
      "Wall time: 18min 39s\n"
     ]
    }
   ],
   "source": [
    "%%time\n",
    "\n",
    "\n",
    "\n",
    "inputs = Input(shape=(1,290))\n",
    "x = Bidirectional(LSTM(200,recurrent_dropout=0.2, kernel_initializer='lecun_normal', return_sequences=True))(inputs)\n",
    "x = Bidirectional(LSTM(120,recurrent_dropout=0.2, kernel_initializer='lecun_normal'))(x)\n",
    "x = Dense(50, activation='sigmoid')(x)\n",
    "x = Dropout(0.1)(x)\n",
    "x = Dense(20,activation='elu')(x)\n",
    "output = Dense(1,activation='linear')(x)\n",
    "\n",
    "model2 = Model(inputs=inputs, outputs=output)\n",
    "model2.compile(loss='mse', optimizer='adam')\n",
    "model2.fit(X_train, y_train, epochs=4, batch_size=64, validation_data=(X_val, y_val), verbose=1, shuffle=False)"
   ]
  },
  {
   "cell_type": "code",
   "execution_count": 19,
   "metadata": {
    "scrolled": true
   },
   "outputs": [
    {
     "name": "stdout",
     "output_type": "stream",
     "text": [
      "LSTM: RMSE val: 0.46913519472443616  - RMSE train: 0.40283004361167796\n"
     ]
    }
   ],
   "source": [
    "y_pred_train = model2.predict(X_train)\n",
    "y_pred_val = model2.predict(X_val)\n",
    "\n",
    "print(f\"LSTM: RMSE val: {np.sqrt(mean_squared_error(y_val, y_pred_val))}  - RMSE train: {np.sqrt(mean_squared_error(y_train, y_pred_train))}\")"
   ]
  },
  {
   "cell_type": "code",
   "execution_count": 21,
   "metadata": {
    "scrolled": true
   },
   "outputs": [
    {
     "name": "stdout",
     "output_type": "stream",
     "text": [
      "Train on 1125170 samples, validate on 198560 samples\n",
      "Epoch 1/10\n",
      "1125170/1125170 [==============================] - 286s 254us/step - loss: 0.4038 - val_loss: 0.2538\n",
      "Epoch 2/10\n",
      "1125170/1125170 [==============================] - 281s 250us/step - loss: 0.2362 - val_loss: 0.2108\n",
      "Epoch 3/10\n",
      "1125170/1125170 [==============================] - 283s 252us/step - loss: 0.1863 - val_loss: 0.1780\n",
      "Epoch 4/10\n",
      "1125170/1125170 [==============================] - 283s 252us/step - loss: 0.1617 - val_loss: 0.1542\n",
      "Epoch 5/10\n",
      "1125170/1125170 [==============================] - 283s 252us/step - loss: 0.1444 - val_loss: 0.1898\n",
      "Epoch 6/10\n",
      "1125170/1125170 [==============================] - 284s 252us/step - loss: 0.1281 - val_loss: 0.1637\n",
      "Epoch 7/10\n",
      "1125170/1125170 [==============================] - 283s 251us/step - loss: 0.1221 - val_loss: 0.1718\n",
      "Epoch 8/10\n",
      "1125170/1125170 [==============================] - 283s 251us/step - loss: 0.1174 - val_loss: 0.1558\n",
      "Epoch 9/10\n",
      "1125170/1125170 [==============================] - 302s 268us/step - loss: 0.1077 - val_loss: 0.1542\n",
      "Epoch 10/10\n",
      "1125170/1125170 [==============================] - 306s 272us/step - loss: 0.1016 - val_loss: 0.1658\n",
      "CPU times: user 1h 3min 16s, sys: 8min 56s, total: 1h 12min 13s\n",
      "Wall time: 47min 59s\n"
     ]
    }
   ],
   "source": [
    "%%time\n",
    "\n",
    "inputs = Input(shape=(1,290))\n",
    "x = Bidirectional(LSTM(200,recurrent_dropout=0.2, kernel_initializer='lecun_normal', return_sequences=True))(inputs)\n",
    "x = Bidirectional(LSTM(120,recurrent_dropout=0.2, kernel_initializer='lecun_normal'))(x)\n",
    "x = Dense(50, activation='sigmoid')(x)\n",
    "x = Dropout(0.1)(x)\n",
    "x = Dense(20,activation='elu')(x)\n",
    "output = Dense(1,activation='linear')(x)\n",
    "\n",
    "model3 = Model(inputs=inputs, outputs=output)\n",
    "model3.compile(loss='mse', optimizer='adam')\n",
    "model3.fit(X_train, y_train, epochs=10, batch_size=64, validation_data=(X_val, y_val), verbose=1, shuffle=False)"
   ]
  },
  {
   "cell_type": "code",
   "execution_count": 22,
   "metadata": {
    "scrolled": true
   },
   "outputs": [
    {
     "name": "stdout",
     "output_type": "stream",
     "text": [
      "LSTM: RMSE val: 0.40712953991248946  - RMSE train: 0.30902528957293673\n",
      "CPU times: user 2min 31s, sys: 14.8 s, total: 2min 46s\n",
      "Wall time: 2min 14s\n"
     ]
    }
   ],
   "source": [
    "%%time\n",
    "y_pred_train = model3.predict(X_train)\n",
    "y_pred_val = model3.predict(X_val)\n",
    "\n",
    "print(f\"LSTM: RMSE val: {np.sqrt(mean_squared_error(y_val, y_pred_val))}  - RMSE train: {np.sqrt(mean_squared_error(y_train, y_pred_train))}\")"
   ]
  },
  {
   "cell_type": "code",
   "execution_count": 25,
   "metadata": {},
   "outputs": [
    {
     "name": "stdout",
     "output_type": "stream",
     "text": [
      "Train on 1125170 samples, validate on 198560 samples\n",
      "Epoch 1/20\n",
      "1125170/1125170 [==============================] - 304s 271us/step - loss: 0.4119 - val_loss: 0.3404\n",
      "Epoch 2/20\n",
      "1125170/1125170 [==============================] - 300s 266us/step - loss: 0.2401 - val_loss: 0.2112\n",
      "Epoch 3/20\n",
      "1125170/1125170 [==============================] - 300s 267us/step - loss: 0.1891 - val_loss: 0.1837\n",
      "Epoch 4/20\n",
      "1125170/1125170 [==============================] - 299s 266us/step - loss: 0.1640 - val_loss: 0.2128\n",
      "Epoch 5/20\n",
      "1125170/1125170 [==============================] - 300s 267us/step - loss: 0.1463 - val_loss: 0.1919\n",
      "Epoch 6/20\n",
      "1125170/1125170 [==============================] - 299s 265us/step - loss: 0.1346 - val_loss: 0.2132\n",
      "Epoch 7/20\n",
      "1125170/1125170 [==============================] - 298s 265us/step - loss: 0.1262 - val_loss: 0.1782\n",
      "Epoch 8/20\n",
      "1125170/1125170 [==============================] - 300s 266us/step - loss: 0.1172 - val_loss: 0.1916\n",
      "Epoch 9/20\n",
      "1125170/1125170 [==============================] - 299s 266us/step - loss: 0.1132 - val_loss: 0.1995\n",
      "Epoch 10/20\n",
      "1125170/1125170 [==============================] - 299s 266us/step - loss: 0.1057 - val_loss: 0.1542\n",
      "Epoch 11/20\n",
      "1125170/1125170 [==============================] - 295s 262us/step - loss: 0.0774 - val_loss: 0.1642\n",
      "CPU times: user 2h 35s, sys: 14min 3s, total: 2h 14min 39s\n",
      "Wall time: 1h 39min 27s\n"
     ]
    }
   ],
   "source": [
    "%%time\n",
    "\n",
    "inputs = Input(shape=(1,290))\n",
    "x = Bidirectional(LSTM(200,recurrent_dropout=0.2, kernel_initializer='lecun_normal', return_sequences=True))(inputs)\n",
    "x = Bidirectional(LSTM(120,recurrent_dropout=0.2, kernel_initializer='lecun_normal'))(x)\n",
    "x = Dense(50, activation='sigmoid')(x)\n",
    "x = Dropout(0.1)(x)\n",
    "x = Dense(20,activation='elu')(x)\n",
    "output = Dense(1,activation='linear')(x)\n",
    "\n",
    "model4 = Model(inputs=inputs, outputs=output)\n",
    "model4.compile(loss='mse', optimizer='adam')\n",
    "model4.fit(X_train, y_train, epochs=20, batch_size=64, validation_data=(X_val, y_val), verbose=1, shuffle=False)"
   ]
  },
  {
   "cell_type": "code",
   "execution_count": 27,
   "metadata": {
    "scrolled": true
   },
   "outputs": [
    {
     "name": "stdout",
     "output_type": "stream",
     "text": [
      "LSTM: RMSE val: 0.40517249755264917  - RMSE train: 0.25523723436846724\n",
      "CPU times: user 2min 30s, sys: 14.2 s, total: 2min 44s\n",
      "Wall time: 2min 12s\n"
     ]
    }
   ],
   "source": [
    "%%time\n",
    "y_pred_train_4 = model4.predict(X_train)\n",
    "y_pred_val_4 = model4.predict(X_val)\n",
    "\n",
    "print(f\"LSTM: RMSE val: {np.sqrt(mean_squared_error(y_val, y_pred_val_4))}  - RMSE train: {np.sqrt(mean_squared_error(y_train, y_pred_train_4))}\")"
   ]
  },
  {
   "cell_type": "code",
   "execution_count": 28,
   "metadata": {},
   "outputs": [
    {
     "name": "stdout",
     "output_type": "stream",
     "text": [
      "Train on 1125170 samples, validate on 198560 samples\n",
      "Epoch 1/10\n",
      "1125170/1125170 [==============================] - 298s 265us/step - loss: 0.4084 - val_loss: 0.3029\n",
      "Epoch 2/10\n",
      "1125170/1125170 [==============================] - 293s 260us/step - loss: 0.2374 - val_loss: 0.1985\n",
      "Epoch 3/10\n",
      "1125170/1125170 [==============================] - 293s 261us/step - loss: 0.1905 - val_loss: 0.2086\n",
      "Epoch 4/10\n",
      "1125170/1125170 [==============================] - 307s 273us/step - loss: 0.1642 - val_loss: 0.2086\n",
      "Epoch 5/10\n",
      "1125170/1125170 [==============================] - 280s 249us/step - loss: 0.1492 - val_loss: 0.1799\n",
      "Epoch 6/10\n",
      "1125170/1125170 [==============================] - 293s 260us/step - loss: 0.1400 - val_loss: 0.1644\n",
      "Epoch 7/10\n",
      "1125170/1125170 [==============================] - 293s 260us/step - loss: 0.1242 - val_loss: 0.1661\n",
      "Epoch 8/10\n",
      "1125170/1125170 [==============================] - 294s 261us/step - loss: 0.1190 - val_loss: 0.1651\n",
      "Epoch 9/10\n",
      "1125170/1125170 [==============================] - 292s 259us/step - loss: 0.1129 - val_loss: 0.3070\n",
      "Epoch 10/10\n",
      "1125170/1125170 [==============================] - 292s 259us/step - loss: 0.1024 - val_loss: 0.1508\n",
      "CPU times: user 59min 35s, sys: 7min 6s, total: 1h 6min 41s\n",
      "Wall time: 48min 58s\n"
     ]
    }
   ],
   "source": [
    "%%time\n",
    "\n",
    "inputs = Input(shape=(1,290))\n",
    "x = Bidirectional(LSTM(200,recurrent_dropout=0.4, kernel_initializer='lecun_normal', return_sequences=True))(inputs)\n",
    "x = Bidirectional(LSTM(120,recurrent_dropout=0.4, kernel_initializer='lecun_normal'))(x)\n",
    "x = Dense(50, activation='sigmoid')(x)\n",
    "x = Dropout(0.1)(x)\n",
    "x = Dense(20,activation='elu')(x)\n",
    "output = Dense(1,activation='linear')(x)\n",
    "\n",
    "model5 = Model(inputs=inputs, outputs=output)\n",
    "model5.compile(loss='mse', optimizer='adam')\n",
    "model5.fit(X_train, y_train, epochs=10, batch_size=64, validation_data=(X_val, y_val), verbose=1, shuffle=False)"
   ]
  },
  {
   "cell_type": "code",
   "execution_count": 29,
   "metadata": {},
   "outputs": [
    {
     "name": "stdout",
     "output_type": "stream",
     "text": [
      "LSTM: RMSE val: 0.40517249755264917  - RMSE train: 0.25523723436846724\n",
      "CPU times: user 2min 30s, sys: 14.1 s, total: 2min 45s\n",
      "Wall time: 2min 13s\n"
     ]
    }
   ],
   "source": [
    "%%time\n",
    "y_pred_train_5 = model5.predict(X_train)\n",
    "y_pred_val_5 = model5.predict(X_val)\n",
    "\n",
    "print(f\"LSTM: RMSE val: {np.sqrt(mean_squared_error(y_val, y_pred_val_5))}  - RMSE train: {np.sqrt(mean_squared_error(y_train, y_pred_train_5))}\")"
   ]
  },
  {
   "cell_type": "code",
   "execution_count": 30,
   "metadata": {},
   "outputs": [
    {
     "name": "stdout",
     "output_type": "stream",
     "text": [
      "Train on 1125170 samples, validate on 198560 samples\n",
      "Epoch 1/10\n",
      "1125170/1125170 [==============================] - 309s 275us/step - loss: 0.4023 - val_loss: 0.3892\n",
      "Epoch 2/10\n",
      "1125170/1125170 [==============================] - 301s 267us/step - loss: 0.2289 - val_loss: 0.2090\n",
      "Epoch 3/10\n",
      "1125170/1125170 [==============================] - 302s 268us/step - loss: 0.1848 - val_loss: 0.2322\n",
      "Epoch 4/10\n",
      "1125170/1125170 [==============================] - 301s 267us/step - loss: 0.1647 - val_loss: 0.1939\n",
      "Epoch 5/10\n",
      "1125170/1125170 [==============================] - 301s 268us/step - loss: 0.1490 - val_loss: 0.1786\n",
      "Epoch 6/10\n",
      "1125170/1125170 [==============================] - 301s 267us/step - loss: 0.1352 - val_loss: 0.1642\n",
      "Epoch 7/10\n",
      "1125170/1125170 [==============================] - 301s 267us/step - loss: 0.1282 - val_loss: 0.1668\n",
      "Epoch 8/10\n",
      "1125170/1125170 [==============================] - 302s 269us/step - loss: 0.1228 - val_loss: 0.1671\n",
      "Epoch 9/10\n",
      "1125170/1125170 [==============================] - 300s 267us/step - loss: 0.1149 - val_loss: 0.1710\n",
      "Epoch 10/10\n",
      "1125170/1125170 [==============================] - 301s 268us/step - loss: 0.1026 - val_loss: 0.1719\n",
      "CPU times: user 1h 42s, sys: 6min 58s, total: 1h 7min 41s\n",
      "Wall time: 50min 24s\n"
     ]
    }
   ],
   "source": [
    "%%time\n",
    "\n",
    "inputs = Input(shape=(1,290))\n",
    "x = Bidirectional(LSTM(200,recurrent_dropout=0.6, kernel_initializer='lecun_normal', return_sequences=True))(inputs)\n",
    "x = Bidirectional(LSTM(120,recurrent_dropout=0.6, kernel_initializer='lecun_normal'))(x)\n",
    "x = Dense(50, activation='sigmoid')(x)\n",
    "x = Dropout(0.1)(x)\n",
    "x = Dense(20,activation='elu')(x)\n",
    "output = Dense(1,activation='linear')(x)\n",
    "\n",
    "model5 = Model(inputs=inputs, outputs=output)\n",
    "model5.compile(loss='mse', optimizer='adam')\n",
    "model5.fit(X_train, y_train, epochs=10, batch_size=64, validation_data=(X_val, y_val), verbose=1, shuffle=False)"
   ]
  },
  {
   "cell_type": "code",
   "execution_count": 32,
   "metadata": {},
   "outputs": [
    {
     "name": "stdout",
     "output_type": "stream",
     "text": [
      "LSTM: RMSE val: 0.41464140657730414  - RMSE train: 0.3162242457484014\n",
      "CPU times: user 2min 44s, sys: 19.9 s, total: 3min 4s\n",
      "Wall time: 2min 22s\n"
     ]
    }
   ],
   "source": [
    "%%time\n",
    "y_pred_train_6 = model6.predict(X_train)\n",
    "y_pred_val_6 = model6.predict(X_val)\n",
    "\n",
    "print(f\"LSTM: RMSE val: {np.sqrt(mean_squared_error(y_val, y_pred_val_6))}  - RMSE train: {np.sqrt(mean_squared_error(y_train, y_pred_train_6))}\")"
   ]
  },
  {
   "cell_type": "code",
   "execution_count": 33,
   "metadata": {},
   "outputs": [
    {
     "name": "stdout",
     "output_type": "stream",
     "text": [
      "Train on 1125170 samples, validate on 198560 samples\n",
      "Epoch 1/10\n",
      "1125170/1125170 [==============================] - 299s 265us/step - loss: 0.3969 - val_loss: 0.2675\n",
      "Epoch 2/10\n",
      "1125170/1125170 [==============================] - 293s 261us/step - loss: 0.2357 - val_loss: 0.2135\n",
      "Epoch 3/10\n",
      "1125170/1125170 [==============================] - 292s 260us/step - loss: 0.1892 - val_loss: 0.2099\n",
      "Epoch 4/10\n",
      "1125170/1125170 [==============================] - 292s 260us/step - loss: 0.1637 - val_loss: 0.1994\n",
      "Epoch 5/10\n",
      "1125170/1125170 [==============================] - 293s 260us/step - loss: 0.1506 - val_loss: 0.2008\n",
      "Epoch 6/10\n",
      "1125170/1125170 [==============================] - 294s 261us/step - loss: 0.1346 - val_loss: 0.1895\n",
      "Epoch 7/10\n",
      "1125170/1125170 [==============================] - 292s 260us/step - loss: 0.1230 - val_loss: 0.1646\n",
      "Epoch 8/10\n",
      "1125170/1125170 [==============================] - 292s 260us/step - loss: 0.1170 - val_loss: 0.1807\n",
      "Epoch 9/10\n",
      "1125170/1125170 [==============================] - 292s 259us/step - loss: 0.1105 - val_loss: 0.1721\n",
      "Epoch 10/10\n",
      "1125170/1125170 [==============================] - 293s 260us/step - loss: 0.1058 - val_loss: 0.1605\n",
      "CPU times: user 59min 19s, sys: 6min 49s, total: 1h 6min 8s\n",
      "Wall time: 48min 57s\n"
     ]
    }
   ],
   "source": [
    "%%time\n",
    "\n",
    "inputs = Input(shape=(1,290))\n",
    "x = Bidirectional(LSTM(180,recurrent_dropout=0.2, kernel_initializer='lecun_normal', return_sequences=True))(inputs)\n",
    "x = Bidirectional(LSTM(100,recurrent_dropout=0.2, kernel_initializer='lecun_normal'))(x)\n",
    "x = Dense(50, activation='sigmoid')(x)\n",
    "x = Dropout(0.1)(x)\n",
    "x = Dense(20,activation='elu')(x)\n",
    "output = Dense(1,activation='linear')(x)\n",
    "\n",
    "model7 = Model(inputs=inputs, outputs=output)\n",
    "model7.compile(loss='mse', optimizer='adam')\n",
    "model7.fit(X_train, y_train, epochs=10, batch_size=64, validation_data=(X_val, y_val), verbose=1, shuffle=False)"
   ]
  },
  {
   "cell_type": "code",
   "execution_count": 34,
   "metadata": {},
   "outputs": [
    {
     "name": "stdout",
     "output_type": "stream",
     "text": [
      "LSTM: RMSE val: 0.40063264187181313  - RMSE train: 0.309914904719032\n",
      "CPU times: user 2min 36s, sys: 14.5 s, total: 2min 51s\n",
      "Wall time: 2min 20s\n"
     ]
    }
   ],
   "source": [
    "%%time\n",
    "y_pred_train_7 = model7.predict(X_train)\n",
    "y_pred_val_7 = model7.predict(X_val)\n",
    "\n",
    "print(f\"LSTM: RMSE val: {np.sqrt(mean_squared_error(y_val, y_pred_val_7))}  - RMSE train: {np.sqrt(mean_squared_error(y_train, y_pred_train_7))}\")"
   ]
  },
  {
   "cell_type": "code",
   "execution_count": 35,
   "metadata": {},
   "outputs": [
    {
     "name": "stdout",
     "output_type": "stream",
     "text": [
      "Train on 1125170 samples, validate on 198560 samples\n",
      "Epoch 1/10\n",
      "1125170/1125170 [==============================] - 610s 542us/step - loss: 0.4149 - val_loss: 0.2779\n",
      "Epoch 2/10\n",
      "1125170/1125170 [==============================] - 603s 536us/step - loss: 0.2375 - val_loss: 0.1924\n",
      "Epoch 3/10\n",
      "1125170/1125170 [==============================] - 605s 537us/step - loss: 0.1919 - val_loss: 0.2513\n",
      "Epoch 4/10\n",
      "1125170/1125170 [==============================] - 603s 536us/step - loss: 0.1695 - val_loss: 0.2000\n",
      "Epoch 5/10\n",
      "1125170/1125170 [==============================] - 590s 524us/step - loss: 0.1534 - val_loss: 0.1699\n",
      "Epoch 6/10\n",
      "1125170/1125170 [==============================] - 577s 513us/step - loss: 0.1368 - val_loss: 0.1746\n",
      "Epoch 7/10\n",
      "1125170/1125170 [==============================] - 578s 513us/step - loss: 0.1326 - val_loss: 0.1754\n",
      "Epoch 8/10\n",
      "1125170/1125170 [==============================] - 578s 513us/step - loss: 0.1208 - val_loss: 0.1971\n",
      "Epoch 9/10\n",
      "1125170/1125170 [==============================] - 578s 514us/step - loss: 0.1122 - val_loss: 0.1740\n",
      "Epoch 10/10\n",
      "1125170/1125170 [==============================] - 578s 513us/step - loss: 0.1064 - val_loss: 0.1663\n",
      "CPU times: user 1h 58min 44s, sys: 13min 38s, total: 2h 12min 23s\n",
      "Wall time: 1h 38min 24s\n"
     ]
    }
   ],
   "source": [
    "%%time\n",
    "\n",
    "inputs = Input(shape=(1,290))\n",
    "x = Bidirectional(LSTM(200,recurrent_dropout=0.2, kernel_initializer='lecun_normal', return_sequences=True))(inputs)\n",
    "x = Bidirectional(LSTM(120,recurrent_dropout=0.2, kernel_initializer='lecun_normal'))(x)\n",
    "x = Dense(50, activation='sigmoid')(x)\n",
    "x = Dropout(0.1)(x)\n",
    "x = Dense(20,activation='elu')(x)\n",
    "output = Dense(1,activation='linear')(x)\n",
    "\n",
    "model8 = Model(inputs=inputs, outputs=output)\n",
    "model8.compile(loss='mse', optimizer='adam')\n",
    "model8.fit(X_train, y_train, epochs=10, batch_size=32, validation_data=(X_val, y_val), verbose=1, shuffle=False)"
   ]
  },
  {
   "cell_type": "code",
   "execution_count": 36,
   "metadata": {},
   "outputs": [
    {
     "name": "stdout",
     "output_type": "stream",
     "text": [
      "LSTM: RMSE val: 0.40779875342955607  - RMSE train: 0.2896994321960738\n",
      "CPU times: user 2min 31s, sys: 12.8 s, total: 2min 44s\n",
      "Wall time: 2min 18s\n"
     ]
    }
   ],
   "source": [
    "%%time\n",
    "y_pred_train_8 = model8.predict(X_train)\n",
    "y_pred_val_8 = model8.predict(X_val)\n",
    "\n",
    "print(f\"LSTM: RMSE val: {np.sqrt(mean_squared_error(y_val, y_pred_val_8))}  - RMSE train: {np.sqrt(mean_squared_error(y_train, y_pred_train_8))}\")"
   ]
  },
  {
   "cell_type": "code",
   "execution_count": 37,
   "metadata": {},
   "outputs": [
    {
     "name": "stdout",
     "output_type": "stream",
     "text": [
      "Train on 1125170 samples, validate on 198560 samples\n",
      "Epoch 1/10\n",
      "1125170/1125170 [==============================] - 154s 137us/step - loss: 0.4246 - val_loss: 0.2400\n",
      "Epoch 2/10\n",
      "1125170/1125170 [==============================] - 147s 131us/step - loss: 0.2322 - val_loss: 0.2186\n",
      "Epoch 3/10\n",
      "1125170/1125170 [==============================] - 149s 132us/step - loss: 0.1897 - val_loss: 0.2352\n",
      "Epoch 4/10\n",
      "1125170/1125170 [==============================] - 148s 132us/step - loss: 0.1594 - val_loss: 0.1795\n",
      "Epoch 5/10\n",
      "1125170/1125170 [==============================] - 147s 131us/step - loss: 0.1432 - val_loss: 0.1942\n",
      "Epoch 6/10\n",
      "1125170/1125170 [==============================] - 149s 132us/step - loss: 0.1318 - val_loss: 0.2316\n",
      "Epoch 7/10\n",
      "1125170/1125170 [==============================] - 149s 132us/step - loss: 0.1248 - val_loss: 0.1868\n",
      "Epoch 8/10\n",
      "1125170/1125170 [==============================] - 147s 131us/step - loss: 0.1125 - val_loss: 0.1650\n",
      "Epoch 9/10\n",
      "1125170/1125170 [==============================] - 148s 131us/step - loss: 0.1103 - val_loss: 0.1472\n",
      "Epoch 10/10\n",
      "1125170/1125170 [==============================] - 147s 131us/step - loss: 0.0994 - val_loss: 0.1555\n",
      "CPU times: user 30min 1s, sys: 3min 32s, total: 33min 34s\n",
      "Wall time: 24min 51s\n"
     ]
    }
   ],
   "source": [
    "%%time\n",
    "\n",
    "inputs = Input(shape=(1,290))\n",
    "x = Bidirectional(LSTM(200,recurrent_dropout=0.2, kernel_initializer='lecun_normal', return_sequences=True))(inputs)\n",
    "x = Bidirectional(LSTM(120,recurrent_dropout=0.2, kernel_initializer='lecun_normal'))(x)\n",
    "x = Dense(50, activation='sigmoid')(x)\n",
    "x = Dropout(0.1)(x)\n",
    "x = Dense(20,activation='elu')(x)\n",
    "output = Dense(1,activation='linear')(x)\n",
    "\n",
    "model9 = Model(inputs=inputs, outputs=output)\n",
    "model9.compile(loss='mse', optimizer='adam')\n",
    "model9.fit(X_train, y_train, epochs=10, batch_size=128, validation_data=(X_val, y_val), verbose=1, shuffle=False)"
   ]
  },
  {
   "cell_type": "code",
   "execution_count": 38,
   "metadata": {},
   "outputs": [
    {
     "name": "stdout",
     "output_type": "stream",
     "text": [
      "LSTM: RMSE val: 0.39433283022044996  - RMSE train: 0.2933445840252637\n",
      "CPU times: user 2min 37s, sys: 14.3 s, total: 2min 51s\n",
      "Wall time: 2min 21s\n"
     ]
    }
   ],
   "source": [
    "%%time\n",
    "y_pred_train_9 = model9.predict(X_train)\n",
    "y_pred_val_9 = model9.predict(X_val)\n",
    "\n",
    "print(f\"LSTM: RMSE val: {np.sqrt(mean_squared_error(y_val, y_pred_val_9))}  - RMSE train: {np.sqrt(mean_squared_error(y_train, y_pred_train_9))}\")"
   ]
  },
  {
   "cell_type": "code",
   "execution_count": 39,
   "metadata": {},
   "outputs": [
    {
     "name": "stdout",
     "output_type": "stream",
     "text": [
      "Train on 1125170 samples, validate on 198560 samples\n",
      "Epoch 1/10\n",
      "1125170/1125170 [==============================] - 77s 68us/step - loss: 0.4209 - val_loss: 0.2478\n",
      "Epoch 2/10\n",
      "1125170/1125170 [==============================] - 69s 62us/step - loss: 0.2203 - val_loss: 0.2377\n",
      "Epoch 3/10\n",
      "1125170/1125170 [==============================] - 69s 62us/step - loss: 0.1790 - val_loss: 0.1804\n",
      "Epoch 4/10\n",
      "1125170/1125170 [==============================] - 69s 61us/step - loss: 0.1506 - val_loss: 0.1568\n",
      "Epoch 5/10\n",
      "1125170/1125170 [==============================] - 69s 62us/step - loss: 0.1361 - val_loss: 0.1737\n",
      "Epoch 6/10\n",
      "1125170/1125170 [==============================] - 69s 62us/step - loss: 0.1288 - val_loss: 0.1714\n",
      "Epoch 7/10\n",
      "1125170/1125170 [==============================] - 69s 61us/step - loss: 0.1171 - val_loss: 0.1591\n",
      "Epoch 8/10\n",
      "1125170/1125170 [==============================] - 69s 61us/step - loss: 0.1115 - val_loss: 0.1590\n",
      "Epoch 9/10\n",
      "1125170/1125170 [==============================] - 69s 61us/step - loss: 0.1087 - val_loss: 0.1647\n",
      "Epoch 10/10\n",
      "1125170/1125170 [==============================] - 69s 61us/step - loss: 0.1034 - val_loss: 0.1420\n",
      "CPU times: user 15min 50s, sys: 2min 27s, total: 18min 17s\n",
      "Wall time: 11min 44s\n"
     ]
    }
   ],
   "source": [
    "%%time\n",
    "\n",
    "inputs = Input(shape=(1,290))\n",
    "x = Bidirectional(LSTM(200,recurrent_dropout=0.2, kernel_initializer='lecun_normal', return_sequences=True))(inputs)\n",
    "x = Bidirectional(LSTM(120,recurrent_dropout=0.2, kernel_initializer='lecun_normal'))(x)\n",
    "x = Dense(50, activation='sigmoid')(x)\n",
    "x = Dropout(0.1)(x)\n",
    "x = Dense(20,activation='elu')(x)\n",
    "output = Dense(1,activation='linear')(x)\n",
    "\n",
    "model10 = Model(inputs=inputs, outputs=output)\n",
    "model10.compile(loss='mse', optimizer='adam')\n",
    "model10.fit(X_train, y_train, epochs=10, batch_size=256, validation_data=(X_val, y_val), verbose=1, shuffle=False)"
   ]
  },
  {
   "cell_type": "code",
   "execution_count": 41,
   "metadata": {},
   "outputs": [
    {
     "name": "stdout",
     "output_type": "stream",
     "text": [
      "LSTM: RMSE val: 0.37683814024328754  - RMSE train: 0.277997960721643\n",
      "CPU times: user 2min 44s, sys: 25.1 s, total: 3min 9s\n",
      "Wall time: 2min 15s\n"
     ]
    }
   ],
   "source": [
    "%%time\n",
    "y_pred_train_10 = model10.predict(X_train)\n",
    "y_pred_val_10 = model10.predict(X_val)\n",
    "\n",
    "print(f\"LSTM: RMSE val: {np.sqrt(mean_squared_error(y_val, y_pred_val_10))}  - RMSE train: {np.sqrt(mean_squared_error(y_train, y_pred_train_10))}\")"
   ]
  },
  {
   "cell_type": "code",
   "execution_count": 42,
   "metadata": {},
   "outputs": [
    {
     "name": "stdout",
     "output_type": "stream",
     "text": [
      "Train on 1125170 samples, validate on 198560 samples\n",
      "Epoch 1/10\n",
      "1125170/1125170 [==============================] - 68s 60us/step - loss: 0.4375 - val_loss: 0.2405\n",
      "Epoch 2/10\n",
      "1125170/1125170 [==============================] - 60s 53us/step - loss: 0.2299 - val_loss: 0.2036\n",
      "Epoch 3/10\n",
      "1125170/1125170 [==============================] - 60s 53us/step - loss: 0.1828 - val_loss: 0.1764\n",
      "Epoch 4/10\n",
      "1125170/1125170 [==============================] - 60s 53us/step - loss: 0.1598 - val_loss: 0.1956\n",
      "Epoch 5/10\n",
      "1125170/1125170 [==============================] - 60s 53us/step - loss: 0.1441 - val_loss: 0.1588\n",
      "Epoch 6/10\n",
      "1125170/1125170 [==============================] - 60s 53us/step - loss: 0.1307 - val_loss: 0.1749\n",
      "Epoch 7/10\n",
      "1125170/1125170 [==============================] - 60s 53us/step - loss: 0.1229 - val_loss: 0.1509\n",
      "Epoch 8/10\n",
      "1125170/1125170 [==============================] - 60s 53us/step - loss: 0.1109 - val_loss: 0.1761\n",
      "Epoch 9/10\n",
      "1125170/1125170 [==============================] - 60s 53us/step - loss: 0.1105 - val_loss: 0.1677\n",
      "Epoch 10/10\n",
      "1125170/1125170 [==============================] - 60s 53us/step - loss: 0.1059 - val_loss: 0.1800\n",
      "CPU times: user 13min 38s, sys: 2min 5s, total: 15min 43s\n",
      "Wall time: 10min 10s\n"
     ]
    }
   ],
   "source": [
    "%%time\n",
    "\n",
    "inputs = Input(shape=(1,290))\n",
    "x = Bidirectional(LSTM(200,recurrent_dropout=0.2, kernel_initializer='lecun_normal', return_sequences=True))(inputs)\n",
    "x = Bidirectional(LSTM(120,recurrent_dropout=0.2, kernel_initializer='lecun_normal'))(x)\n",
    "x = Dense(50, activation='sigmoid')(x)\n",
    "x = Dropout(0.1)(x)\n",
    "x = Dense(20,activation='elu')(x)\n",
    "output = Dense(1,activation='linear')(x)\n",
    "\n",
    "model11 = Model(inputs=inputs, outputs=output)\n",
    "model11.compile(loss='mse', optimizer='adam')\n",
    "model11.fit(X_train, y_train, epochs=10, batch_size=300, validation_data=(X_val, y_val), verbose=1, shuffle=False)"
   ]
  },
  {
   "cell_type": "code",
   "execution_count": 43,
   "metadata": {},
   "outputs": [
    {
     "name": "stdout",
     "output_type": "stream",
     "text": [
      "LSTM: RMSE val: 0.424292833978685  - RMSE train: 0.3226801369413016\n",
      "CPU times: user 2min 47s, sys: 25.1 s, total: 3min 12s\n",
      "Wall time: 2min 18s\n"
     ]
    }
   ],
   "source": [
    "%%time\n",
    "y_pred_train_11 = model11.predict(X_train)\n",
    "y_pred_val_11 = model11.predict(X_val)\n",
    "\n",
    "print(f\"LSTM: RMSE val: {np.sqrt(mean_squared_error(y_val, y_pred_val_11))}  - RMSE train: {np.sqrt(mean_squared_error(y_train, y_pred_train_11))}\")"
   ]
  },
  {
   "cell_type": "code",
   "execution_count": 44,
   "metadata": {},
   "outputs": [
    {
     "name": "stdout",
     "output_type": "stream",
     "text": [
      "Train on 1125170 samples, validate on 198560 samples\n",
      "Epoch 1/20\n",
      "1125170/1125170 [==============================] - 79s 70us/step - loss: 0.4455 - val_loss: 0.3023\n",
      "Epoch 2/20\n",
      "1125170/1125170 [==============================] - 71s 63us/step - loss: 0.2290 - val_loss: 0.2220\n",
      "Epoch 3/20\n",
      "1125170/1125170 [==============================] - 70s 62us/step - loss: 0.1825 - val_loss: 0.1599\n",
      "Epoch 4/20\n",
      "1125170/1125170 [==============================] - 70s 62us/step - loss: 0.1571 - val_loss: 0.1736\n",
      "Epoch 5/20\n",
      "1125170/1125170 [==============================] - 70s 62us/step - loss: 0.1370 - val_loss: 0.1622\n",
      "Epoch 6/20\n",
      "1125170/1125170 [==============================] - 71s 63us/step - loss: 0.1304 - val_loss: 0.1463\n",
      "Epoch 7/20\n",
      "1125170/1125170 [==============================] - 70s 63us/step - loss: 0.1251 - val_loss: 0.1544\n",
      "Epoch 8/20\n",
      "1125170/1125170 [==============================] - 70s 63us/step - loss: 0.1116 - val_loss: 0.1829\n",
      "Epoch 9/20\n",
      "1125170/1125170 [==============================] - 70s 62us/step - loss: 0.1084 - val_loss: 0.1509\n",
      "Epoch 10/20\n",
      "1125170/1125170 [==============================] - 70s 63us/step - loss: 0.0961 - val_loss: 0.1919\n",
      "Epoch 11/20\n",
      "1125170/1125170 [==============================] - 70s 62us/step - loss: 0.0992 - val_loss: 0.1580\n",
      "Epoch 12/20\n",
      "1125170/1125170 [==============================] - 71s 63us/step - loss: 0.0940 - val_loss: 0.1475\n",
      "Epoch 13/20\n",
      "1125170/1125170 [==============================] - 70s 63us/step - loss: 0.0883 - val_loss: 0.1535\n",
      "Epoch 14/20\n",
      "1125170/1125170 [==============================] - 70s 63us/step - loss: 0.0860 - val_loss: 0.1487\n",
      "Epoch 15/20\n",
      "1125170/1125170 [==============================] - 70s 63us/step - loss: 0.0796 - val_loss: 0.1595\n",
      "Epoch 16/20\n",
      "1125170/1125170 [==============================] - 70s 63us/step - loss: 0.0801 - val_loss: 0.1509\n",
      "Epoch 17/20\n",
      "1125170/1125170 [==============================] - 70s 62us/step - loss: 0.0750 - val_loss: 0.1581\n",
      "Epoch 18/20\n",
      "1125170/1125170 [==============================] - 70s 62us/step - loss: 0.0731 - val_loss: 0.1787\n",
      "Epoch 19/20\n",
      "1125170/1125170 [==============================] - 71s 63us/step - loss: 0.0742 - val_loss: 0.1593\n",
      "Epoch 20/20\n",
      "1125170/1125170 [==============================] - 70s 63us/step - loss: 0.0733 - val_loss: 0.1927\n",
      "CPU times: user 31min 50s, sys: 4min 49s, total: 36min 40s\n",
      "Wall time: 23min 41s\n"
     ]
    }
   ],
   "source": [
    "%%time\n",
    "\n",
    "inputs = Input(shape=(1,290))\n",
    "x = Bidirectional(LSTM(200,recurrent_dropout=0.2, kernel_initializer='lecun_normal', return_sequences=True))(inputs)\n",
    "x = Bidirectional(LSTM(120,recurrent_dropout=0.2, kernel_initializer='lecun_normal'))(x)\n",
    "x = Dense(50, activation='sigmoid')(x)\n",
    "x = Dropout(0.1)(x)\n",
    "x = Dense(20,activation='elu')(x)\n",
    "output = Dense(1,activation='linear')(x)\n",
    "\n",
    "model12 = Model(inputs=inputs, outputs=output)\n",
    "model12.compile(loss='mse', optimizer='adam')\n",
    "model12.fit(X_train, y_train, epochs=20, batch_size=256, validation_data=(X_val, y_val), verbose=1, shuffle=False)"
   ]
  },
  {
   "cell_type": "code",
   "execution_count": 45,
   "metadata": {},
   "outputs": [
    {
     "name": "stdout",
     "output_type": "stream",
     "text": [
      "LSTM: RMSE val: 0.43898293846992925  - RMSE train: 0.3175829332895608\n",
      "CPU times: user 2min 48s, sys: 24.9 s, total: 3min 12s\n",
      "Wall time: 2min 19s\n"
     ]
    }
   ],
   "source": [
    "%%time\n",
    "y_pred_train_12 = model12.predict(X_train)\n",
    "y_pred_val_12 = model12.predict(X_val)\n",
    "\n",
    "print(f\"LSTM: RMSE val: {np.sqrt(mean_squared_error(y_val, y_pred_val_12))}  - RMSE train: {np.sqrt(mean_squared_error(y_train, y_pred_train_12))}\")"
   ]
  },
  {
   "cell_type": "code",
   "execution_count": 46,
   "metadata": {},
   "outputs": [
    {
     "name": "stdout",
     "output_type": "stream",
     "text": [
      "Train on 1125170 samples, validate on 198560 samples\n",
      "Epoch 1/8\n",
      "1125170/1125170 [==============================] - 80s 71us/step - loss: 0.4297 - val_loss: 0.2559\n",
      "Epoch 2/8\n",
      "1125170/1125170 [==============================] - 71s 63us/step - loss: 0.2316 - val_loss: 0.2001\n",
      "Epoch 3/8\n",
      "1125170/1125170 [==============================] - 70s 63us/step - loss: 0.1867 - val_loss: 0.1646\n",
      "Epoch 4/8\n",
      "1125170/1125170 [==============================] - 70s 63us/step - loss: 0.1579 - val_loss: 0.2106\n",
      "Epoch 5/8\n",
      "1125170/1125170 [==============================] - 71s 63us/step - loss: 0.1425 - val_loss: 0.1917\n",
      "Epoch 6/8\n",
      "1125170/1125170 [==============================] - 70s 63us/step - loss: 0.1326 - val_loss: 0.1796\n",
      "Epoch 7/8\n",
      "1125170/1125170 [==============================] - 71s 63us/step - loss: 0.1198 - val_loss: 0.1802\n",
      "Epoch 8/8\n",
      "1125170/1125170 [==============================] - 70s 62us/step - loss: 0.1130 - val_loss: 0.1793\n",
      "CPU times: user 12min 57s, sys: 2min, total: 14min 57s\n",
      "Wall time: 9min 38s\n"
     ]
    }
   ],
   "source": [
    "%%time\n",
    "\n",
    "inputs = Input(shape=(1,290))\n",
    "x = Bidirectional(LSTM(200,recurrent_dropout=0.2, kernel_initializer='lecun_normal', return_sequences=True))(inputs)\n",
    "x = Bidirectional(LSTM(120,recurrent_dropout=0.2, kernel_initializer='lecun_normal'))(x)\n",
    "x = Dense(50, activation='sigmoid')(x)\n",
    "x = Dropout(0.1)(x)\n",
    "x = Dense(20,activation='elu')(x)\n",
    "output = Dense(1,activation='linear')(x)\n",
    "\n",
    "model13 = Model(inputs=inputs, outputs=output)\n",
    "model13.compile(loss='mse', optimizer='adam')\n",
    "model13.fit(X_train, y_train, epochs=8, batch_size=256, validation_data=(X_val, y_val), verbose=1, shuffle=False)"
   ]
  },
  {
   "cell_type": "code",
   "execution_count": 47,
   "metadata": {},
   "outputs": [
    {
     "name": "stdout",
     "output_type": "stream",
     "text": [
      "LSTM: RMSE val: 0.42340932501739503  - RMSE train: 0.33514441273062545\n",
      "CPU times: user 2min 50s, sys: 25.2 s, total: 3min 15s\n",
      "Wall time: 2min 20s\n"
     ]
    }
   ],
   "source": [
    "%%time\n",
    "y_pred_train_13 = model13.predict(X_train)\n",
    "y_pred_val_13 = model13.predict(X_val)\n",
    "\n",
    "print(f\"LSTM: RMSE val: {np.sqrt(mean_squared_error(y_val, y_pred_val_13))}  - RMSE train: {np.sqrt(mean_squared_error(y_train, y_pred_train_13))}\")"
   ]
  },
  {
   "cell_type": "code",
   "execution_count": 48,
   "metadata": {},
   "outputs": [
    {
     "name": "stdout",
     "output_type": "stream",
     "text": [
      "Train on 1125170 samples, validate on 198560 samples\n",
      "Epoch 1/10\n",
      "1125170/1125170 [==============================] - 109s 97us/step - loss: 0.4163 - val_loss: 0.2538\n",
      "Epoch 2/10\n",
      "1125170/1125170 [==============================] - 99s 88us/step - loss: 0.2347 - val_loss: 0.2165\n",
      "Epoch 3/10\n",
      "1125170/1125170 [==============================] - 98s 87us/step - loss: 0.1904 - val_loss: 0.1811\n",
      "Epoch 4/10\n",
      "1125170/1125170 [==============================] - 98s 87us/step - loss: 0.1632 - val_loss: 0.1508\n",
      "Epoch 5/10\n",
      "1125170/1125170 [==============================] - 97s 86us/step - loss: 0.1453 - val_loss: 0.1580\n",
      "Epoch 6/10\n",
      "1125170/1125170 [==============================] - 97s 86us/step - loss: 0.1321 - val_loss: 0.1712\n",
      "Epoch 7/10\n",
      "1125170/1125170 [==============================] - 97s 87us/step - loss: 0.1256 - val_loss: 0.1670\n",
      "Epoch 8/10\n",
      "1125170/1125170 [==============================] - 97s 86us/step - loss: 0.1173 - val_loss: 0.1583\n",
      "Epoch 9/10\n",
      "1125170/1125170 [==============================] - 97s 86us/step - loss: 0.1060 - val_loss: 0.1574\n",
      "Epoch 10/10\n",
      "1125170/1125170 [==============================] - 97s 86us/step - loss: 0.1080 - val_loss: 0.1639\n",
      "CPU times: user 19min 17s, sys: 4min 5s, total: 23min 23s\n",
      "Wall time: 16min 32s\n"
     ]
    }
   ],
   "source": [
    "%%time\n",
    "\n",
    "inputs = Input(shape=(1,290))\n",
    "x = Bidirectional(LSTM(400,recurrent_dropout=0.2, kernel_initializer='lecun_normal', return_sequences=True))(inputs)\n",
    "x = Bidirectional(LSTM(240,recurrent_dropout=0.2, kernel_initializer='lecun_normal'))(x)\n",
    "x = Dense(50, activation='sigmoid')(x)\n",
    "x = Dropout(0.1)(x)\n",
    "x = Dense(20,activation='elu')(x)\n",
    "output = Dense(1,activation='linear')(x)\n",
    "\n",
    "model14 = Model(inputs=inputs, outputs=output)\n",
    "model14.compile(loss='mse', optimizer='adam')\n",
    "model14.fit(X_train, y_train, epochs=10, batch_size=256, validation_data=(X_val, y_val), verbose=1, shuffle=False)"
   ]
  },
  {
   "cell_type": "code",
   "execution_count": 49,
   "metadata": {},
   "outputs": [
    {
     "name": "stdout",
     "output_type": "stream",
     "text": [
      "LSTM: RMSE val: 0.40483751917673755  - RMSE train: 0.28986965367940326\n",
      "CPU times: user 2min 34s, sys: 16.5 s, total: 2min 50s\n",
      "Wall time: 2min 8s\n"
     ]
    }
   ],
   "source": [
    "%%time\n",
    "y_pred_train_14 = model14.predict(X_train)\n",
    "y_pred_val_14 = model14.predict(X_val)\n",
    "\n",
    "print(f\"LSTM: RMSE val: {np.sqrt(mean_squared_error(y_val, y_pred_val_14))}  - RMSE train: {np.sqrt(mean_squared_error(y_train, y_pred_train_14))}\")"
   ]
  },
  {
   "cell_type": "code",
   "execution_count": 52,
   "metadata": {},
   "outputs": [
    {
     "name": "stdout",
     "output_type": "stream",
     "text": [
      "Train on 1125170 samples, validate on 198560 samples\n",
      "Epoch 1/10\n",
      "1125170/1125170 [==============================] - 80s 71us/step - loss: 0.4284 - val_loss: 0.2415\n",
      "Epoch 2/10\n",
      "1125170/1125170 [==============================] - 69s 62us/step - loss: 0.2197 - val_loss: 0.2087\n",
      "Epoch 3/10\n",
      "1125170/1125170 [==============================] - 70s 62us/step - loss: 0.1787 - val_loss: 0.1686\n",
      "Epoch 4/10\n",
      "1125170/1125170 [==============================] - 69s 62us/step - loss: 0.1564 - val_loss: 0.1724\n",
      "Epoch 5/10\n",
      "1125170/1125170 [==============================] - 70s 62us/step - loss: 0.1397 - val_loss: 0.1701\n",
      "Epoch 6/10\n",
      "1125170/1125170 [==============================] - 69s 62us/step - loss: 0.1317 - val_loss: 0.1606\n",
      "Epoch 7/10\n",
      "1125170/1125170 [==============================] - 70s 62us/step - loss: 0.1185 - val_loss: 0.1581\n",
      "Epoch 8/10\n",
      "1125170/1125170 [==============================] - 70s 62us/step - loss: 0.1124 - val_loss: 0.1517\n",
      "Epoch 9/10\n",
      "1125170/1125170 [==============================] - 70s 62us/step - loss: 0.1125 - val_loss: 0.1441\n",
      "Epoch 10/10\n",
      "1125170/1125170 [==============================] - 70s 62us/step - loss: 0.1017 - val_loss: 0.1624\n",
      "CPU times: user 16min 1s, sys: 2min 23s, total: 18min 24s\n",
      "Wall time: 11min 50s\n"
     ]
    }
   ],
   "source": [
    "%%time\n",
    "\n",
    "inputs = Input(shape=(1,290))\n",
    "x = Bidirectional(LSTM(180,recurrent_dropout=0.2, kernel_initializer='lecun_normal', return_sequences=True))(inputs)\n",
    "x = Bidirectional(LSTM(60,recurrent_dropout=0.2, kernel_initializer='lecun_normal'))(x)\n",
    "x = Dense(50, activation='sigmoid')(x)\n",
    "x = Dropout(0.1)(x)\n",
    "x = Dense(20,activation='elu')(x)\n",
    "output = Dense(1,activation='linear')(x)\n",
    "\n",
    "model15 = Model(inputs=inputs, outputs=output)\n",
    "model15.compile(loss='mse', optimizer='adam')\n",
    "model15.fit(X_train, y_train, epochs=10, batch_size=256, validation_data=(X_val, y_val), verbose=1, shuffle=False)"
   ]
  },
  {
   "cell_type": "code",
   "execution_count": 53,
   "metadata": {},
   "outputs": [
    {
     "name": "stdout",
     "output_type": "stream",
     "text": [
      "LSTM: RMSE val: 0.40295943441866444  - RMSE train: 0.3073894759202385\n",
      "CPU times: user 2min 43s, sys: 20 s, total: 3min 3s\n",
      "Wall time: 2min 18s\n"
     ]
    }
   ],
   "source": [
    "%%time\n",
    "y_pred_train_15 = model15.predict(X_train)\n",
    "y_pred_val_15 = model15.predict(X_val)\n",
    "\n",
    "print(f\"LSTM: RMSE val: {np.sqrt(mean_squared_error(y_val, y_pred_val_15))}  - RMSE train: {np.sqrt(mean_squared_error(y_train, y_pred_train_15))}\")"
   ]
  },
  {
   "cell_type": "code",
   "execution_count": 54,
   "metadata": {},
   "outputs": [
    {
     "name": "stdout",
     "output_type": "stream",
     "text": [
      "Train on 1125170 samples, validate on 198560 samples\n",
      "Epoch 1/20\n",
      "1125170/1125170 [==============================] - 79s 70us/step - loss: 0.4274 - val_loss: 0.2491\n",
      "Epoch 2/20\n",
      "1125170/1125170 [==============================] - 68s 60us/step - loss: 0.2245 - val_loss: 0.2027\n",
      "Epoch 3/20\n",
      "1125170/1125170 [==============================] - 67s 60us/step - loss: 0.1896 - val_loss: 0.1780\n",
      "Epoch 4/20\n",
      "1125170/1125170 [==============================] - 68s 60us/step - loss: 0.1669 - val_loss: 0.1771\n",
      "Epoch 5/20\n",
      "1125170/1125170 [==============================] - 68s 60us/step - loss: 0.1459 - val_loss: 0.1591\n",
      "Epoch 6/20\n",
      "1125170/1125170 [==============================] - 68s 60us/step - loss: 0.1275 - val_loss: 0.1511\n",
      "Epoch 7/20\n",
      "1125170/1125170 [==============================] - 68s 60us/step - loss: 0.1221 - val_loss: 0.1719\n",
      "Epoch 8/20\n",
      "1125170/1125170 [==============================] - 68s 60us/step - loss: 0.1162 - val_loss: 0.1535\n",
      "Epoch 9/20\n",
      "1125170/1125170 [==============================] - 68s 60us/step - loss: 0.1069 - val_loss: 0.1600\n",
      "Epoch 10/20\n",
      "1125170/1125170 [==============================] - 68s 60us/step - loss: 0.1017 - val_loss: 0.1658\n",
      "Epoch 11/20\n",
      "1125170/1125170 [==============================] - 68s 60us/step - loss: 0.0946 - val_loss: 0.2210\n",
      "Epoch 12/20\n",
      "1125170/1125170 [==============================] - 68s 60us/step - loss: 0.0987 - val_loss: 0.1552\n",
      "Epoch 13/20\n",
      "1125170/1125170 [==============================] - 67s 60us/step - loss: 0.0892 - val_loss: 0.1505\n",
      "Epoch 14/20\n",
      "1125170/1125170 [==============================] - 67s 60us/step - loss: 0.0880 - val_loss: 0.1608\n",
      "Epoch 15/20\n",
      "1125170/1125170 [==============================] - 68s 60us/step - loss: 0.0867 - val_loss: 0.1482\n",
      "Epoch 16/20\n",
      "1125170/1125170 [==============================] - 68s 60us/step - loss: 0.0797 - val_loss: 0.1518\n",
      "Epoch 17/20\n",
      "1125170/1125170 [==============================] - 68s 60us/step - loss: 0.0832 - val_loss: 0.1572\n",
      "Epoch 18/20\n",
      "1125170/1125170 [==============================] - 68s 60us/step - loss: 0.0774 - val_loss: 0.1542\n",
      "Epoch 19/20\n",
      "1125170/1125170 [==============================] - 68s 60us/step - loss: 0.0784 - val_loss: 0.1578\n",
      "Epoch 20/20\n",
      "1125170/1125170 [==============================] - 68s 60us/step - loss: 0.0730 - val_loss: 0.1653\n",
      "CPU times: user 31min 11s, sys: 4min 31s, total: 35min 43s\n",
      "Wall time: 22min 47s\n"
     ]
    }
   ],
   "source": [
    "%%time\n",
    "\n",
    "inputs = Input(shape=(1,290))\n",
    "x = Bidirectional(LSTM(100,recurrent_dropout=0.2, kernel_initializer='lecun_normal', return_sequences=True))(inputs)\n",
    "x = Bidirectional(LSTM(50,recurrent_dropout=0.2, kernel_initializer='lecun_normal'))(x)\n",
    "x = Dense(50, activation='sigmoid')(x)\n",
    "x = Dropout(0.1)(x)\n",
    "x = Dense(20,activation='elu')(x)\n",
    "output = Dense(1,activation='linear')(x)\n",
    "\n",
    "model16 = Model(inputs=inputs, outputs=output)\n",
    "model16.compile(loss='mse', optimizer='adam')\n",
    "model16.fit(X_train, y_train, epochs=20, batch_size=256, validation_data=(X_val, y_val), verbose=1, shuffle=False)"
   ]
  },
  {
   "cell_type": "code",
   "execution_count": 55,
   "metadata": {},
   "outputs": [
    {
     "name": "stdout",
     "output_type": "stream",
     "text": [
      "LSTM: RMSE val: 0.40651840834903064  - RMSE train: 0.279115436234677\n",
      "CPU times: user 2min 42s, sys: 20.5 s, total: 3min 3s\n",
      "Wall time: 2min 18s\n"
     ]
    }
   ],
   "source": [
    "%%time\n",
    "y_pred_train_16 = model16.predict(X_train)\n",
    "y_pred_val_16 = model16.predict(X_val)\n",
    "\n",
    "print(f\"LSTM: RMSE val: {np.sqrt(mean_squared_error(y_val, y_pred_val_16))}  - RMSE train: {np.sqrt(mean_squared_error(y_train, y_pred_train_16))}\")"
   ]
  },
  {
   "cell_type": "code",
   "execution_count": 56,
   "metadata": {},
   "outputs": [],
   "source": [
    "X_test = x_test_reduced.values\n",
    "X_test = X_test.reshape((X_test.shape[0],1,X_test.shape[1]))\n",
    "\n",
    "y_pred_submit = model10.predict(X_test)"
   ]
  },
  {
   "cell_type": "code",
   "execution_count": 59,
   "metadata": {},
   "outputs": [
    {
     "name": "stderr",
     "output_type": "stream",
     "text": [
      "/anaconda/envs/py36/lib/python3.6/site-packages/IPython/core/interactiveshell.py:2785: DtypeWarning: Columns (1) have mixed types. Specify dtype option on import or set low_memory=False.\n",
      "  interactivity=interactivity, compiler=compiler, result=result)\n"
     ]
    }
   ],
   "source": [
    "test_id = pd.read_csv('test_grouped_id.csv')\n",
    "test_id = test_id.loc[:, ~test_id.columns.str.contains('^Unnamed')]\n",
    "\n"
   ]
  },
  {
   "cell_type": "code",
   "execution_count": 63,
   "metadata": {},
   "outputs": [
    {
     "data": {
      "text/plain": [
       "(296530, 1)"
      ]
     },
     "execution_count": 63,
     "metadata": {},
     "output_type": "execute_result"
    }
   ],
   "source": [
    "y_pred_submit.shape"
   ]
  },
  {
   "cell_type": "code",
   "execution_count": 64,
   "metadata": {},
   "outputs": [
    {
     "data": {
      "text/plain": [
       "(296530, 1)"
      ]
     },
     "execution_count": 64,
     "metadata": {},
     "output_type": "execute_result"
    }
   ],
   "source": [
    "test_id.shape"
   ]
  },
  {
   "cell_type": "code",
   "execution_count": 66,
   "metadata": {
    "scrolled": true
   },
   "outputs": [
    {
     "data": {
      "text/plain": [
       "pandas.core.frame.DataFrame"
      ]
     },
     "execution_count": 66,
     "metadata": {},
     "output_type": "execute_result"
    }
   ],
   "source": [
    "type(test_id)"
   ]
  },
  {
   "cell_type": "code",
   "execution_count": 67,
   "metadata": {},
   "outputs": [
    {
     "data": {
      "text/plain": [
       "numpy.ndarray"
      ]
     },
     "execution_count": 67,
     "metadata": {},
     "output_type": "execute_result"
    }
   ],
   "source": [
    "type(y_pred_submit)"
   ]
  },
  {
   "cell_type": "code",
   "execution_count": 81,
   "metadata": {
    "scrolled": true
   },
   "outputs": [
    {
     "data": {
      "text/plain": [
       "array([[0.00305861],\n",
       "       [0.23765655],\n",
       "       [0.01008919],\n",
       "       ...,\n",
       "       [0.01185551],\n",
       "       [0.0043706 ],\n",
       "       [0.00537506]], dtype=float32)"
      ]
     },
     "execution_count": 81,
     "metadata": {},
     "output_type": "execute_result"
    }
   ],
   "source": [
    "y_pred_submit"
   ]
  },
  {
   "cell_type": "code",
   "execution_count": 82,
   "metadata": {},
   "outputs": [],
   "source": [
    "y_pred_submit_reshape = y_pred_submit.reshape(296530)"
   ]
  },
  {
   "cell_type": "code",
   "execution_count": 83,
   "metadata": {},
   "outputs": [
    {
     "data": {
      "text/plain": [
       "array([0.00305861, 0.23765655, 0.01008919, ..., 0.01185551, 0.0043706 ,\n",
       "       0.00537506], dtype=float32)"
      ]
     },
     "execution_count": 83,
     "metadata": {},
     "output_type": "execute_result"
    }
   ],
   "source": [
    "y_pred_submit_reshape"
   ]
  },
  {
   "cell_type": "code",
   "execution_count": 85,
   "metadata": {},
   "outputs": [],
   "source": [
    "submission = pd.DataFrame({'fullVisitorId':test_id['fullVisitorId'],'PredictedLogRevenue':y_pred_submit_reshape})\n",
    "submission['fullVisitorId']= submission['fullVisitorId'].astype(str)\n",
    "submission['PredictedLogRevenue']=submission['PredictedLogRevenue'].apply(lambda x: 0 if x<0 else x)\n",
    "\n",
    "submission.to_csv('submission_model10_LSTM.csv',index=False)"
   ]
  }
 ],
 "metadata": {
  "kernelspec": {
   "display_name": "Python 3.6 - AzureML",
   "language": "python",
   "name": "python3-azureml"
  },
  "language_info": {
   "codemirror_mode": {
    "name": "ipython",
    "version": 3
   },
   "file_extension": ".py",
   "mimetype": "text/x-python",
   "name": "python",
   "nbconvert_exporter": "python",
   "pygments_lexer": "ipython3",
   "version": "3.6.6"
  }
 },
 "nbformat": 4,
 "nbformat_minor": 2
}
