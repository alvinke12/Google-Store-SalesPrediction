{
 "cells": [
  {
   "cell_type": "code",
   "execution_count": 1,
   "metadata": {},
   "outputs": [],
   "source": [
    "import pandas as pd \n",
    "import numpy as np \n",
    "import json \n",
    "from ast import literal_eval\n",
    "\n",
    "def flatten(in_csv, out_csv, nrows=None):\n",
    "    df = pd.read_csv(in_csv, dtype=np.object, nrows=nrows)\n",
    "\n",
    "    # customDimensions\n",
    "    def parse_customDimensions(raw_str):\n",
    "        lst = literal_eval(raw_str)\n",
    "        if isinstance(lst, list) and lst:\n",
    "            return pd.Series(lst[0])\n",
    "        else:\n",
    "            return pd.Series({})\n",
    "    \n",
    "    customDimensions_df = df.customDimensions.apply(parse_customDimensions)\n",
    "    customDimensions_df.columns = [f'customDimensions_{x}' for x in customDimensions_df.columns]\n",
    "    df = pd.concat([df, customDimensions_df], axis=1)\n",
    "    df.drop('customDimensions', axis=1, inplace=True)\n",
    "\n",
    "    # hits\n",
    "    def parse_hits(raw_str):\n",
    "        lst = literal_eval(raw_str)\n",
    "        if isinstance(lst, list) and lst:\n",
    "            return pd.Series(lst[0])\n",
    "        else:\n",
    "            return pd.Series({})\n",
    "    \n",
    "    hits_df = df.hits.apply(parse_hits)\n",
    "    hits_df.columns = [f'hits_{x}' for x in hits_df.columns]\n",
    "    df = pd.concat([df, hits_df], axis=1)\n",
    "    df.drop('hits', axis=1, inplace=True)\n",
    "\n",
    "    # 'hits_page', 'hits_transaction', 'hits_item', 'hits_appInfo',\n",
    "    # 'hits_exceptionInfo', 'hits_eCommerceAction', 'hits_social', 'hits_contentGroup', 'hits_promotionActionInfo'\n",
    "    dict_cols = ['hits_page', 'hits_transaction', 'hits_item', 'hits_appInfo', \n",
    "        'hits_exceptionInfo', 'hits_eCommerceAction', 'hits_social', 'hits_contentGroup', 'hits_promotionActionInfo']\n",
    "    for col in dict_cols:\n",
    "        parsed_df = hits_df[col].apply(pd.Series)\n",
    "        parsed_df.columns = [f'{col}_{x}' for x in parsed_df.columns]\n",
    "        df = pd.concat([df, parsed_df], axis=1)\n",
    "        df.drop(col, axis=1, inplace=True)\n",
    "    \n",
    "    # 'hits_experiment', 'hits_customVariables', 'hits_customMetrics', 'hits_publisher_infos', 'hits_customDimensions' are empty\n",
    "    df.drop(['hits_experiment', 'hits_customVariables', 'hits_customMetrics', 'hits_publisher_infos', 'hits_customDimensions'], axis=1, inplace=True)\n",
    "\n",
    "    # 'hits_product', 'hits_promotion'\n",
    "    def parse_list(x):\n",
    "        if isinstance(x, list) and x:\n",
    "            return pd.Series(x[0])\n",
    "        else:\n",
    "            return pd.Series({})\n",
    "    \n",
    "    for col in ['hits_product', 'hits_promotion']:\n",
    "        parsed_df = hits_df[col].apply(parse_list)\n",
    "        parsed_df.columns = [f'{col}_{x}' for x in parsed_df.columns]\n",
    "        df = pd.concat([df, parsed_df], axis=1)\n",
    "        df.drop(col, axis=1, inplace=True)\n",
    "\n",
    "    df.to_csv(out_csv, index=False)\n",
    "\n",
    "    return df.shape"
   ]
  },
  {
   "cell_type": "code",
   "execution_count": 2,
   "metadata": {},
   "outputs": [
    {
     "name": "stderr",
     "output_type": "stream",
     "text": [
      "/anaconda/envs/py36/lib/python3.6/site-packages/pandas/core/indexes/api.py:69: RuntimeWarning: '<' not supported between instances of 'int' and 'str', sort order is undefined for incomparable objects\n",
      "  index = _union_indexes(indexes, sort=sort)\n",
      "/anaconda/envs/py36/lib/python3.6/site-packages/pandas/core/indexes/api.py:107: RuntimeWarning: '<' not supported between instances of 'int' and 'str', sort order is undefined for incomparable objects\n",
      "  result = result.union(other)\n",
      "/anaconda/envs/py36/lib/python3.6/site-packages/pandas/core/indexes/api.py:107: RuntimeWarning: '<' not supported between instances of 'str' and 'int', sort order is undefined for incomparable objects\n",
      "  result = result.union(other)\n",
      "/anaconda/envs/py36/lib/python3.6/site-packages/pandas/core/indexes/api.py:69: RuntimeWarning: '<' not supported between instances of 'str' and 'int', sort order is undefined for incomparable objects\n",
      "  index = _union_indexes(indexes, sort=sort)\n"
     ]
    },
    {
     "name": "stdout",
     "output_type": "stream",
     "text": [
      "CPU times: user 6h 11min 24s, sys: 26min 50s, total: 6h 38min 15s\n",
      "Wall time: 6h 38min 51s\n"
     ]
    }
   ],
   "source": [
    "%%time\n",
    "train_shape = flatten(in_csv='train_v2.csv', out_csv='flattened_train_v2.csv')"
   ]
  },
  {
   "cell_type": "code",
   "execution_count": 32,
   "metadata": {},
   "outputs": [
    {
     "name": "stderr",
     "output_type": "stream",
     "text": [
      "/anaconda/envs/py36/lib/python3.6/site-packages/pandas/core/indexes/api.py:69: RuntimeWarning: '<' not supported between instances of 'int' and 'str', sort order is undefined for incomparable objects\n",
      "  index = _union_indexes(indexes, sort=sort)\n",
      "/anaconda/envs/py36/lib/python3.6/site-packages/pandas/core/indexes/api.py:107: RuntimeWarning: '<' not supported between instances of 'int' and 'str', sort order is undefined for incomparable objects\n",
      "  result = result.union(other)\n",
      "/anaconda/envs/py36/lib/python3.6/site-packages/pandas/core/indexes/api.py:107: RuntimeWarning: '<' not supported between instances of 'str' and 'int', sort order is undefined for incomparable objects\n",
      "  result = result.union(other)\n",
      "/anaconda/envs/py36/lib/python3.6/site-packages/pandas/core/indexes/api.py:69: RuntimeWarning: '<' not supported between instances of 'str' and 'int', sort order is undefined for incomparable objects\n",
      "  index = _union_indexes(indexes, sort=sort)\n"
     ]
    },
    {
     "name": "stdout",
     "output_type": "stream",
     "text": [
      "CPU times: user 1h 30min 56s, sys: 3min 57s, total: 1h 34min 53s\n",
      "Wall time: 1h 35min 35s\n"
     ]
    }
   ],
   "source": [
    "%%time\n",
    "test_shape = flatten(in_csv='test_v2.csv', out_csv='flattened_test_v2.csv')"
   ]
  }
 ],
 "metadata": {
  "kernelspec": {
   "display_name": "Python 3.6 - AzureML",
   "language": "python",
   "name": "python3-azureml"
  },
  "language_info": {
   "codemirror_mode": {
    "name": "ipython",
    "version": 3
   },
   "file_extension": ".py",
   "mimetype": "text/x-python",
   "name": "python",
   "nbconvert_exporter": "python",
   "pygments_lexer": "ipython3",
   "version": "3.6.6"
  }
 },
 "nbformat": 4,
 "nbformat_minor": 2
}
